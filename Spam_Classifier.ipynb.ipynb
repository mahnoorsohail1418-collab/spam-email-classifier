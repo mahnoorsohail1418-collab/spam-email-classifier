{
  "nbformat": 4,
  "nbformat_minor": 0,
  "metadata": {
    "colab": {
      "provenance": []
    },
    "kernelspec": {
      "name": "python3",
      "display_name": "Python 3"
    },
    "language_info": {
      "name": "python"
    }
  },
  "cells": [
    {
      "cell_type": "code",
      "execution_count": 17,
      "metadata": {
        "id": "inkzt47MrD_S",
        "colab": {
          "base_uri": "https://localhost:8080/"
        },
        "outputId": "dd577d1e-9e2e-4298-87ab-8f3027d28120"
      },
      "outputs": [
        {
          "output_type": "stream",
          "name": "stdout",
          "text": [
            "\n",
            "AFTER CLEANING\n",
            "  label                                      message_clean  label_num\n",
            "0   ham  go until jurong point crazy available only in ...          0\n",
            "1   ham                            ok lar joking wif u oni          0\n",
            "2  spam  free entry in  a wkly comp to win fa cup final...          1\n",
            "3   ham        u dun say so early hor u c already then say          0\n",
            "4   ham  nah i dont think he goes to usf he lives aroun...          0\n",
            "\n",
            "VECTORIZED ROWS,COLUMN:  (5572, 8562)\n",
            "\n",
            "ACCURANCY:  0.9506726457399103\n"
          ]
        }
      ],
      "source": [
        "import pandas as pd\n",
        "import re\n",
        "import string\n",
        "from sklearn.feature_extraction.text import TfidfVectorizer\n",
        "from sklearn.model_selection import train_test_split\n",
        "from sklearn.naive_bayes import MultinomialNB\n",
        "from sklearn.metrics import accuracy_score\n",
        "\n",
        "data=pd.read_csv('spam.csv',encoding='latin-1')\n",
        "\n",
        "data=data[['v1','v2']]\n",
        "data.columns=['label','message']\n",
        "\n",
        "def clean_text(text):\n",
        "    if not isinstance(text,str):\n",
        "     return \"\"\n",
        "    text=text.lower().strip()\n",
        "    text = re.sub(r'\\d+','', text)\n",
        "    text = text.translate(str.maketrans('', '', string.punctuation))\n",
        "    return text\n",
        "\n",
        "data['message_clean']=data['message'].apply(clean_text)\n",
        "data['label_num']=data['label'].map({'spam':1,'ham':0})\n",
        "\n",
        "print('\\nAFTER CLEANING')\n",
        "print(data[['label','message_clean','label_num']].head())\n",
        "\n",
        "vectorizer=TfidfVectorizer()\n",
        "X=vectorizer.fit_transform(data['message_clean'])\n",
        "Y=data['label_num']\n",
        "\n",
        "print('\\nVECTORIZED ROWS,COLUMN: ',X.shape)\n",
        "\n",
        "X_train,X_test,Y_train,Y_test=train_test_split(X,Y,test_size=0.2,random_state=42)\n",
        "\n",
        "model=MultinomialNB()\n",
        "model.fit(X_train,Y_train)\n",
        "\n",
        "y_pred=model.predict(X_test)\n",
        "\n",
        "print('\\nACCURANCY: ',accuracy_score(Y_test,y_pred,))\n"
      ]
    },
    {
      "cell_type": "code",
      "source": [],
      "metadata": {
        "id": "AJ6SRcMurgpT"
      },
      "execution_count": null,
      "outputs": []
    }
  ]
}